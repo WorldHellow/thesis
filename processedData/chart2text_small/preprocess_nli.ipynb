{
 "cells": [
  {
   "cell_type": "code",
   "execution_count": 2,
   "id": "a6a5db08",
   "metadata": {},
   "outputs": [],
   "source": [
    "import pandas as pd\n",
    "from sklearn.model_selection import train_test_split\n",
    "import numpy as np\n",
    "from statistics import mean\n",
    "import regex as re\n",
    "import csv\n",
    "import os\n",
    "import glob\n",
    "from itertools import repeat"
   ]
  },
  {
   "cell_type": "code",
   "execution_count": 3,
   "id": "68d2872d",
   "metadata": {},
   "outputs": [],
   "source": [
    "def get_file_names(filename):\n",
    "    file_content = list()\n",
    "    for i in sorted(glob.glob(filename)):\n",
    "        file_content.append(i)\n",
    "        \n",
    "    return file_content"
   ]
  },
  {
   "cell_type": "code",
   "execution_count": 4,
   "id": "a1d52909",
   "metadata": {},
   "outputs": [],
   "source": [
    "def get_split_data(filename):\n",
    "    f = open(filename,'r')\n",
    "    l = f.readlines()\n",
    "    f.close()\n",
    "    return l"
   ]
  },
  {
   "cell_type": "code",
   "execution_count": 10,
   "id": "f8e577b4",
   "metadata": {},
   "outputs": [],
   "source": [
    "def get_titles(title_files):\n",
    "    title_list = list()\n",
    "    for i in title_files:\n",
    "        f = open(i,'r')\n",
    "        title = f.read()\n",
    "        title_list.append(title)\n",
    "    return title_list"
   ]
  },
  {
   "cell_type": "code",
   "execution_count": 5,
   "id": "538d08e8",
   "metadata": {},
   "outputs": [],
   "source": [
    "def format_single_data(data_files, title_files):\n",
    "    input_format_list = list()\n",
    "    for i,j in zip(data_files,title_files):\n",
    "        temp_list = list()\n",
    "        \n",
    "        f2 = open(j,'r')\n",
    "        title = f2.read()\n",
    "        \n",
    "        f1 = open(i,'r')\n",
    "        \n",
    "        dataX = list()\n",
    "        dataY = list()\n",
    "        \n",
    "        for x , y in csv.reader(f1, delimiter=','):\n",
    "            dataX.append(x)\n",
    "            dataY.append(y)\n",
    "        \n",
    "        x_axis = dataX.pop(0)\n",
    "        y_axis = dataY.pop(0)\n",
    "\n",
    "        for x, y in zip(dataX, dataY):\n",
    "            input_format = 'The ' + title + ' for ' + x_axis + ' ' + check_str(x) + ' is ' + check_str(y) + ' ' + y_axis\n",
    "            temp_list.append(input_format)\n",
    "        \n",
    "        input_format_list.append('. '.join(temp_list))\n",
    "    return input_format_list"
   ]
  },
  {
   "cell_type": "code",
   "execution_count": 6,
   "id": "3968211f",
   "metadata": {},
   "outputs": [],
   "source": [
    "def check_str(x):\n",
    "    if isinstance(x,str):\n",
    "        return x\n",
    "    else:\n",
    "        return str(x)"
   ]
  },
  {
   "cell_type": "code",
   "execution_count": 7,
   "id": "86150175",
   "metadata": {},
   "outputs": [],
   "source": [
    "def format_multi_data(data_file,title_file):\n",
    "    input_format_list = list()\n",
    "    for i, j in zip(data_file,title_file):\n",
    "        temp_list = list()\n",
    "        \n",
    "        f2 = open(j,'r')\n",
    "        title = f2.read()\n",
    "        \n",
    "        df = pd.read_csv(i)\n",
    "        headers = [[] for i in range(0, len(df.columns))]\n",
    "        for i in range(len(df.columns)):\n",
    "            headers[i] = list(df[df.columns[i]])\n",
    "            \n",
    "        columns = list(df.columns)\n",
    "        zipped = list(zip(*headers))\n",
    "        \n",
    "        for idx, i in enumerate(zipped):\n",
    "            z = zip(columns,i)\n",
    "            z = list(z)\n",
    "            temp_list.append('The ' + title + ' for ' + str(z[0][0]) + ' ' +str(z[0][1]))    \n",
    "            z.pop(0)\n",
    "            m = tuple(z)         \n",
    "            for k,j in m: \n",
    "                temp_list.append('The ' + title + ' for ' + check_str(k) + ' is ' + check_str(j))\n",
    "        input_format_list.append('. '.join(temp_list))\n",
    "\n",
    "    return input_format_list"
   ]
  },
  {
   "cell_type": "code",
   "execution_count": 8,
   "id": "9e0b8721",
   "metadata": {},
   "outputs": [],
   "source": [
    "def get_captions(caption_files):\n",
    "    summaries_list = list()\n",
    "    for i in caption_files:\n",
    "        f = open(i,'r')\n",
    "        summary = f.read()\n",
    "        summaries_list.append(summary)\n",
    "    return summaries_list"
   ]
  },
  {
   "cell_type": "code",
   "execution_count": 15,
   "id": "55d5e65b",
   "metadata": {},
   "outputs": [],
   "source": [
    "single_titles_files = get_file_names('original/titles/*.txt')\n",
    "single_data_files = get_file_names('original/data/*.csv')\n",
    "single_caption_files = get_file_names('original/captions/*.txt')\n",
    "single_titles = get_titles(single_titles_files)\n",
    "formated_data = format_single_data(single_data_files, single_titles_files)\n",
    "single_captions = get_captions(single_caption_files)\n",
    "df_single = pd.DataFrame(list(zip(single_titles,formated_data, single_captions)), columns = [\"Title\", \"Data\",\"Summaries\"])"
   ]
  },
  {
   "cell_type": "code",
   "execution_count": 23,
   "id": "f7ce99fc",
   "metadata": {},
   "outputs": [],
   "source": [
    "multi_titles_files = get_file_names('original/multiColumn/titles/*.txt')\n",
    "multi_data_files = get_file_names('original/multiColumn/data/*.csv')\n",
    "multi_caption_files = get_file_names('original/multiColumn/captions/*.txt')\n",
    "multi_titles = get_titles(multi_titles_files)\n",
    "multi_formated_data = format_multi_data(multi_data_files,multi_titles_files)\n",
    "multi_captions = get_captions(multi_caption_files)\n",
    "df_multi = pd.DataFrame(list(zip(multi_titles,multi_formated_data,multi_captions)), columns = [\"Title\", \"Data\",\"Summaries\"])"
   ]
  },
  {
   "cell_type": "code",
   "execution_count": 26,
   "id": "792ceeb7",
   "metadata": {},
   "outputs": [],
   "source": [
    "df_all = pd.concat([df_single,df_multi])\n",
    "df_all = df_all.reset_index(drop=True)"
   ]
  },
  {
   "cell_type": "code",
   "execution_count": 27,
   "id": "f3d80f56",
   "metadata": {},
   "outputs": [],
   "source": [
    "train_summary = get_split_data('preprocessed/train/trainOriginalSummary.txt')\n",
    "val_summary = get_split_data('preprocessed/valid/validOriginalSummary.txt')\n",
    "test_summary = get_split_data('preprocessed/test/testOriginalSummary.txt')"
   ]
  },
  {
   "cell_type": "code",
   "execution_count": 28,
   "id": "2694e317",
   "metadata": {},
   "outputs": [],
   "source": [
    "train_titles = get_split_data('preprocessed/train/trainTitle.txt')\n",
    "val_titles = get_split_data('preprocessed/valid/validTitle.txt')\n",
    "test_titles = get_split_data('preprocessed/test/testTitle.txt')"
   ]
  },
  {
   "cell_type": "code",
   "execution_count": 29,
   "id": "579922ba",
   "metadata": {},
   "outputs": [],
   "source": [
    "summaries_pro = train_summary + val_summary + test_summary\n",
    "titles_pro = train_titles + val_titles + test_titles"
   ]
  },
  {
   "cell_type": "code",
   "execution_count": 30,
   "id": "af058620",
   "metadata": {},
   "outputs": [],
   "source": [
    "df_pro = pd.DataFrame(list(zip(titles_pro,summaries_pro)), columns = [\"Title\", \"Summaries_processed\"])\n",
    "df_pro = df_pro.reset_index(drop=True)"
   ]
  },
  {
   "cell_type": "code",
   "execution_count": 31,
   "id": "9a559008",
   "metadata": {},
   "outputs": [],
   "source": [
    "df_combined = df_all.merge(df_pro, on='Title', how='inner', suffixes=['', '_'], indicator=True)"
   ]
  },
  {
   "cell_type": "code",
   "execution_count": 32,
   "id": "0281e362",
   "metadata": {},
   "outputs": [
    {
     "name": "stderr",
     "output_type": "stream",
     "text": [
      "/tmp/ipykernel_13444/873969187.py:1: FutureWarning: In a future version of pandas all arguments of DataFrame.drop except for the argument 'labels' will be keyword-only\n",
      "  df_combined = df_combined.drop(['Title','Summaries','_merge'],1)\n"
     ]
    }
   ],
   "source": [
    "df_combined = df_combined.drop(['Title','Summaries','_merge'],1)"
   ]
  },
  {
   "cell_type": "code",
   "execution_count": 45,
   "id": "af152850",
   "metadata": {},
   "outputs": [],
   "source": [
    "train_ratio = 0.70\n",
    "validation_ratio = 0.15\n",
    "test_ratio = 0.15"
   ]
  },
  {
   "cell_type": "code",
   "execution_count": 46,
   "id": "d829bdbf",
   "metadata": {},
   "outputs": [],
   "source": [
    "train, test = train_test_split(df_combined, test_size=1 - train_ratio)\n",
    "val, test = train_test_split(test, test_size=test_ratio/(test_ratio + validation_ratio))"
   ]
  },
  {
   "cell_type": "code",
   "execution_count": 47,
   "id": "3d8a4517",
   "metadata": {},
   "outputs": [],
   "source": [
    "train.to_csv('train_c2t_small_nli.csv', sep='\\t', index=False)\n",
    "val.to_csv('val_c2t_small.csv_nli', sep='\\t', index=False)\n",
    "test.to_csv('test_c2t_small_nli.csv', sep='\\t', index=False)"
   ]
  },
  {
   "cell_type": "code",
   "execution_count": null,
   "id": "d588e6f6",
   "metadata": {},
   "outputs": [],
   "source": []
  }
 ],
 "metadata": {
  "kernelspec": {
   "display_name": "Python 3 (ipykernel)",
   "language": "python",
   "name": "python3"
  },
  "language_info": {
   "codemirror_mode": {
    "name": "ipython",
    "version": 3
   },
   "file_extension": ".py",
   "mimetype": "text/x-python",
   "name": "python",
   "nbconvert_exporter": "python",
   "pygments_lexer": "ipython3",
   "version": "3.9.7"
  }
 },
 "nbformat": 4,
 "nbformat_minor": 5
}
